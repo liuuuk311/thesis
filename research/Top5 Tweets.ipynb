{
 "cells": [
  {
   "cell_type": "markdown",
   "metadata": {},
   "source": [
    "# Get the top 5 tweets from a dataset\n",
    "\n",
    "The top 5 tweets is based on the interactions"
   ]
  },
  {
   "cell_type": "code",
   "execution_count": 1,
   "metadata": {},
   "outputs": [
    {
     "name": "stderr",
     "output_type": "stream",
     "text": [
      "/home/luca/Projects/Uni/thesis/.env/lib/python3.7/site-packages/treetaggerwrapper.py:740: FutureWarning: Possible nested set at position 8\n",
      "  re.IGNORECASE | re.VERBOSE)\n",
      "/home/luca/Projects/Uni/thesis/.env/lib/python3.7/site-packages/treetaggerwrapper.py:2044: FutureWarning: Possible nested set at position 152\n",
      "  re.VERBOSE | re.IGNORECASE)\n",
      "/home/luca/Projects/Uni/thesis/.env/lib/python3.7/site-packages/treetaggerwrapper.py:2067: FutureWarning: Possible nested set at position 409\n",
      "  UrlMatch_re = re.compile(UrlMatch_expression, re.VERBOSE | re.IGNORECASE)\n",
      "/home/luca/Projects/Uni/thesis/.env/lib/python3.7/site-packages/treetaggerwrapper.py:2079: FutureWarning: Possible nested set at position 192\n",
      "  EmailMatch_re = re.compile(EmailMatch_expression, re.VERBOSE | re.IGNORECASE)\n"
     ]
    }
   ],
   "source": [
    "import pandas as pd\n",
    "from TwitterUtils.reply import extract_replies\n",
    "from TwitterUtils.textCleaner import clean\n",
    "from Sentiment import polarityScore\n"
   ]
  },
  {
   "cell_type": "code",
   "execution_count": 2,
   "metadata": {},
   "outputs": [],
   "source": [
    "pd.options.display.max_colwidth = 1000"
   ]
  },
  {
   "cell_type": "code",
   "execution_count": 3,
   "metadata": {},
   "outputs": [],
   "source": [
    "dataset = pd.read_csv('../data/salviniAcquarius.csv', sep=';')"
   ]
  },
  {
   "cell_type": "code",
   "execution_count": 4,
   "metadata": {},
   "outputs": [
    {
     "data": {
      "text/html": [
       "<div>\n",
       "<style scoped>\n",
       "    .dataframe tbody tr th:only-of-type {\n",
       "        vertical-align: middle;\n",
       "    }\n",
       "\n",
       "    .dataframe tbody tr th {\n",
       "        vertical-align: top;\n",
       "    }\n",
       "\n",
       "    .dataframe thead th {\n",
       "        text-align: right;\n",
       "    }\n",
       "</style>\n",
       "<table border=\"1\" class=\"dataframe\">\n",
       "  <thead>\n",
       "    <tr style=\"text-align: right;\">\n",
       "      <th></th>\n",
       "      <th>username</th>\n",
       "      <th>date</th>\n",
       "      <th>retweets</th>\n",
       "      <th>favorites</th>\n",
       "      <th>text</th>\n",
       "      <th>geo</th>\n",
       "      <th>mentions</th>\n",
       "      <th>hashtags</th>\n",
       "      <th>id</th>\n",
       "      <th>permalink</th>\n",
       "    </tr>\n",
       "  </thead>\n",
       "  <tbody>\n",
       "    <tr>\n",
       "      <th>308</th>\n",
       "      <td>matteosalvinimi</td>\n",
       "      <td>2018-06-05 22:25</td>\n",
       "      <td>464</td>\n",
       "      <td>2250</td>\n",
       "      <td>Comincia una bella avventura, con gente perbene, motivata, onesta, pulita e concreta, comincia la rivoluzione del buonsenso! # primagliitaliani # GovernoGialloBlu VIDEO &gt; https://www.facebook.com/salviniofficial/videos/10155819603203155/ …pic.twitter.com/nUVk76kB6u</td>\n",
       "      <td>NaN</td>\n",
       "      <td>NaN</td>\n",
       "      <td># #</td>\n",
       "      <td>1004096802600218625</td>\n",
       "      <td>https://twitter.com/matteosalvinimi/status/1004096802600218625</td>\n",
       "    </tr>\n",
       "    <tr>\n",
       "      <th>250</th>\n",
       "      <td>matteosalvinimi</td>\n",
       "      <td>2018-06-12 14:04</td>\n",
       "      <td>985</td>\n",
       "      <td>3668</td>\n",
       "      <td>Piena sintonia con il ministro dell'Interno tedesco, Horst # Seehofer, che mi ha invitato a Berlino dove andrò presto con piacere. Grazie all'Italia finalmente in Europa si cambia: per difendere i nostri cittadini bisogna tornare a proteggere le frontiere.https://www.huffingtonpost.it/2018/06/12/salvini-trova-sponde-a-berlino_a_23456852/ …</td>\n",
       "      <td>NaN</td>\n",
       "      <td>NaN</td>\n",
       "      <td>#</td>\n",
       "      <td>1006507527704588288</td>\n",
       "      <td>https://twitter.com/matteosalvinimi/status/1006507527704588288</td>\n",
       "    </tr>\n",
       "    <tr>\n",
       "      <th>258</th>\n",
       "      <td>matteosalvinimi</td>\n",
       "      <td>2018-06-11 16:29</td>\n",
       "      <td>2465</td>\n",
       "      <td>10405</td>\n",
       "      <td>VITTORIA! 629 immigrati a bordo della nave Aquarius in direzione # Spagna, primo obiettivo raggiunto! # chiudiamoiportipic.twitter.com/dNmLyNRaVo</td>\n",
       "      <td>NaN</td>\n",
       "      <td>NaN</td>\n",
       "      <td># #</td>\n",
       "      <td>1006181632594804736</td>\n",
       "      <td>https://twitter.com/matteosalvinimi/status/1006181632594804736</td>\n",
       "    </tr>\n",
       "    <tr>\n",
       "      <th>23</th>\n",
       "      <td>matteosalvinimi</td>\n",
       "      <td>2018-06-27 22:25</td>\n",
       "      <td>955</td>\n",
       "      <td>3592</td>\n",
       "      <td>Sentite cosa dicono alla festa dell'Unità di Scandicci (Firenze). Mi fa piacere, il buonsenso non è né di destra né di sinistra.pic.twitter.com/tsJovZ1nnS</td>\n",
       "      <td>NaN</td>\n",
       "      <td>NaN</td>\n",
       "      <td>NaN</td>\n",
       "      <td>1012069401913364480</td>\n",
       "      <td>https://twitter.com/matteosalvinimi/status/1012069401913364480</td>\n",
       "    </tr>\n",
       "    <tr>\n",
       "      <th>151</th>\n",
       "      <td>matteosalvinimi</td>\n",
       "      <td>2018-06-18 17:26</td>\n",
       "      <td>760</td>\n",
       "      <td>6746</td>\n",
       "      <td>E poi mio figlio porta a casa la sua pagella con 9 in latino, storia, spagnolo, francese e matematica, e con 10 in condotta, e tutto il resto (minacce, bugie e insulti) scompare... A proposito, buona # maturità2018 ragazzi!</td>\n",
       "      <td>NaN</td>\n",
       "      <td>NaN</td>\n",
       "      <td>#</td>\n",
       "      <td>1008732570497044480</td>\n",
       "      <td>https://twitter.com/matteosalvinimi/status/1008732570497044480</td>\n",
       "    </tr>\n",
       "  </tbody>\n",
       "</table>\n",
       "</div>"
      ],
      "text/plain": [
       "            username              date  retweets  favorites  \\\n",
       "308  matteosalvinimi  2018-06-05 22:25       464       2250   \n",
       "250  matteosalvinimi  2018-06-12 14:04       985       3668   \n",
       "258  matteosalvinimi  2018-06-11 16:29      2465      10405   \n",
       "23   matteosalvinimi  2018-06-27 22:25       955       3592   \n",
       "151  matteosalvinimi  2018-06-18 17:26       760       6746   \n",
       "\n",
       "                                                                                                                                                                                                                                                                                                                                                      text  \\\n",
       "308                                                                              Comincia una bella avventura, con gente perbene, motivata, onesta, pulita e concreta, comincia la rivoluzione del buonsenso! # primagliitaliani # GovernoGialloBlu VIDEO > https://www.facebook.com/salviniofficial/videos/10155819603203155/ …pic.twitter.com/nUVk76kB6u   \n",
       "250  Piena sintonia con il ministro dell'Interno tedesco, Horst # Seehofer, che mi ha invitato a Berlino dove andrò presto con piacere. Grazie all'Italia finalmente in Europa si cambia: per difendere i nostri cittadini bisogna tornare a proteggere le frontiere.https://www.huffingtonpost.it/2018/06/12/salvini-trova-sponde-a-berlino_a_23456852/ …   \n",
       "258                                                                                                                                                                                                      VITTORIA! 629 immigrati a bordo della nave Aquarius in direzione # Spagna, primo obiettivo raggiunto! # chiudiamoiportipic.twitter.com/dNmLyNRaVo   \n",
       "23                                                                                                                                                                                              Sentite cosa dicono alla festa dell'Unità di Scandicci (Firenze). Mi fa piacere, il buonsenso non è né di destra né di sinistra.pic.twitter.com/tsJovZ1nnS   \n",
       "151                                                                                                                        E poi mio figlio porta a casa la sua pagella con 9 in latino, storia, spagnolo, francese e matematica, e con 10 in condotta, e tutto il resto (minacce, bugie e insulti) scompare... A proposito, buona # maturità2018 ragazzi!   \n",
       "\n",
       "     geo mentions hashtags                   id  \\\n",
       "308  NaN      NaN      # #  1004096802600218625   \n",
       "250  NaN      NaN        #  1006507527704588288   \n",
       "258  NaN      NaN      # #  1006181632594804736   \n",
       "23   NaN      NaN      NaN  1012069401913364480   \n",
       "151  NaN      NaN        #  1008732570497044480   \n",
       "\n",
       "                                                          permalink  \n",
       "308  https://twitter.com/matteosalvinimi/status/1004096802600218625  \n",
       "250  https://twitter.com/matteosalvinimi/status/1006507527704588288  \n",
       "258  https://twitter.com/matteosalvinimi/status/1006181632594804736  \n",
       "23   https://twitter.com/matteosalvinimi/status/1012069401913364480  \n",
       "151  https://twitter.com/matteosalvinimi/status/1008732570497044480  "
      ]
     },
     "execution_count": 4,
     "metadata": {},
     "output_type": "execute_result"
    }
   ],
   "source": [
    "dataset.sample(5)"
   ]
  },
  {
   "cell_type": "code",
   "execution_count": 5,
   "metadata": {},
   "outputs": [],
   "source": [
    "dataset['interactions'] = dataset['retweets'] + dataset['favorites']"
   ]
  },
  {
   "cell_type": "code",
   "execution_count": 6,
   "metadata": {},
   "outputs": [],
   "source": [
    "top5 = dataset.sort_values(by=['interactions'], ascending=False).head(5)"
   ]
  },
  {
   "cell_type": "code",
   "execution_count": 7,
   "metadata": {},
   "outputs": [
    {
     "data": {
      "text/html": [
       "<div>\n",
       "<style scoped>\n",
       "    .dataframe tbody tr th:only-of-type {\n",
       "        vertical-align: middle;\n",
       "    }\n",
       "\n",
       "    .dataframe tbody tr th {\n",
       "        vertical-align: top;\n",
       "    }\n",
       "\n",
       "    .dataframe thead th {\n",
       "        text-align: right;\n",
       "    }\n",
       "</style>\n",
       "<table border=\"1\" class=\"dataframe\">\n",
       "  <thead>\n",
       "    <tr style=\"text-align: right;\">\n",
       "      <th></th>\n",
       "      <th>id</th>\n",
       "      <th>text</th>\n",
       "      <th>retweets</th>\n",
       "    </tr>\n",
       "  </thead>\n",
       "  <tbody>\n",
       "    <tr>\n",
       "      <th>262</th>\n",
       "      <td>1006077728091762689</td>\n",
       "      <td>Oggi anche la nave Sea Watch 3, di Ong tedesca e battente bandiera olandese, è al largo delle coste libiche in attesa di effettuare l’ennesimo carico di immigrati, da portare in Italia. L’Italia ha smesso di chinare il capo e di ubbidire, stavolta C’È CHI DICE NO. # chiudiamoiportipic.twitter.com/kjusddFDqH</td>\n",
       "      <td>3323</td>\n",
       "    </tr>\n",
       "    <tr>\n",
       "      <th>185</th>\n",
       "      <td>1007879357531115521</td>\n",
       "      <td>Mentre Aquarius naviga verso la Spagna, altre 2 navi di Ong con bandiera dell’Olanda sono arrivate al largo delle coste della Libia. Sappiano che l’Italia non vuole più essere complice del business dell’immigrazione clandestina, e dovranno cercarsi altri porti dove dirigersi.</td>\n",
       "      <td>3275</td>\n",
       "    </tr>\n",
       "    <tr>\n",
       "      <th>91</th>\n",
       "      <td>1009838907473760256</td>\n",
       "      <td>Gli insulti dei chiacchieroni Macron e Saviano non mi toccano, mi fanno forza. Mentre loro parlano, io oggi sto lavorando per bloccare il traffico di clandestini nel Mediterraneo e per restituire agli italiani le ville sequestrate ai mafiosi. C’è chi parla, c’è chi fa. Bacioni</td>\n",
       "      <td>2535</td>\n",
       "    </tr>\n",
       "    <tr>\n",
       "      <th>265</th>\n",
       "      <td>1005860118959882241</td>\n",
       "      <td># chiudiamoiportipic.twitter.com/TusUnoHUiw</td>\n",
       "      <td>2621</td>\n",
       "    </tr>\n",
       "    <tr>\n",
       "      <th>258</th>\n",
       "      <td>1006181632594804736</td>\n",
       "      <td>VITTORIA! 629 immigrati a bordo della nave Aquarius in direzione # Spagna, primo obiettivo raggiunto! # chiudiamoiportipic.twitter.com/dNmLyNRaVo</td>\n",
       "      <td>2465</td>\n",
       "    </tr>\n",
       "  </tbody>\n",
       "</table>\n",
       "</div>"
      ],
      "text/plain": [
       "                      id  \\\n",
       "262  1006077728091762689   \n",
       "185  1007879357531115521   \n",
       "91   1009838907473760256   \n",
       "265  1005860118959882241   \n",
       "258  1006181632594804736   \n",
       "\n",
       "                                                                                                                                                                                                                                                                                                                     text  \\\n",
       "262  Oggi anche la nave Sea Watch 3, di Ong tedesca e battente bandiera olandese, è al largo delle coste libiche in attesa di effettuare l’ennesimo carico di immigrati, da portare in Italia. L’Italia ha smesso di chinare il capo e di ubbidire, stavolta C’È CHI DICE NO. # chiudiamoiportipic.twitter.com/kjusddFDqH   \n",
       "185                                  Mentre Aquarius naviga verso la Spagna, altre 2 navi di Ong con bandiera dell’Olanda sono arrivate al largo delle coste della Libia. Sappiano che l’Italia non vuole più essere complice del business dell’immigrazione clandestina, e dovranno cercarsi altri porti dove dirigersi.   \n",
       "91                                  Gli insulti dei chiacchieroni Macron e Saviano non mi toccano, mi fanno forza. Mentre loro parlano, io oggi sto lavorando per bloccare il traffico di clandestini nel Mediterraneo e per restituire agli italiani le ville sequestrate ai mafiosi. C’è chi parla, c’è chi fa. Bacioni   \n",
       "265                                                                                                                                                                                                                                                                           # chiudiamoiportipic.twitter.com/TusUnoHUiw   \n",
       "258                                                                                                                                                                     VITTORIA! 629 immigrati a bordo della nave Aquarius in direzione # Spagna, primo obiettivo raggiunto! # chiudiamoiportipic.twitter.com/dNmLyNRaVo   \n",
       "\n",
       "     retweets  \n",
       "262      3323  \n",
       "185      3275  \n",
       "91       2535  \n",
       "265      2621  \n",
       "258      2465  "
      ]
     },
     "execution_count": 7,
     "metadata": {},
     "output_type": "execute_result"
    }
   ],
   "source": [
    "top5[['id', 'text', 'retweets']]"
   ]
  },
  {
   "cell_type": "markdown",
   "metadata": {},
   "source": [
    "# Run sentiment analysis on the first tweet replies"
   ]
  },
  {
   "cell_type": "code",
   "execution_count": 8,
   "metadata": {},
   "outputs": [],
   "source": [
    "status = top5[['id']].iloc[0]"
   ]
  },
  {
   "cell_type": "code",
   "execution_count": 9,
   "metadata": {},
   "outputs": [],
   "source": [
    "replies_list = extract_replies('matteosalvinimi', str(status['id']))"
   ]
  },
  {
   "cell_type": "code",
   "execution_count": 10,
   "metadata": {},
   "outputs": [],
   "source": [
    "replies = pd.Series(replies_list)"
   ]
  },
  {
   "cell_type": "code",
   "execution_count": 11,
   "metadata": {},
   "outputs": [],
   "source": [
    "replies = replies.apply(clean)"
   ]
  },
  {
   "cell_type": "code",
   "execution_count": 12,
   "metadata": {},
   "outputs": [],
   "source": [
    "replies = replies.to_frame().rename(index=str, columns={0: \"reply\"})"
   ]
  },
  {
   "cell_type": "code",
   "execution_count": 13,
   "metadata": {},
   "outputs": [],
   "source": [
    "replies = replies[replies['reply'].str.len() != 0]"
   ]
  },
  {
   "cell_type": "code",
   "execution_count": 14,
   "metadata": {},
   "outputs": [],
   "source": [
    "replies['polarityScore'] = replies['reply'].apply(polarityScore.get_polarity_score)"
   ]
  },
  {
   "cell_type": "code",
   "execution_count": 18,
   "metadata": {},
   "outputs": [
    {
     "data": {
      "text/html": [
       "<div>\n",
       "<style scoped>\n",
       "    .dataframe tbody tr th:only-of-type {\n",
       "        vertical-align: middle;\n",
       "    }\n",
       "\n",
       "    .dataframe tbody tr th {\n",
       "        vertical-align: top;\n",
       "    }\n",
       "\n",
       "    .dataframe thead th {\n",
       "        text-align: right;\n",
       "    }\n",
       "</style>\n",
       "<table border=\"1\" class=\"dataframe\">\n",
       "  <thead>\n",
       "    <tr style=\"text-align: right;\">\n",
       "      <th></th>\n",
       "      <th>reply</th>\n",
       "      <th>polarityScore</th>\n",
       "    </tr>\n",
       "  </thead>\n",
       "  <tbody>\n",
       "    <tr>\n",
       "      <th>39</th>\n",
       "      <td>Ma perchè non se li portano in germania????</td>\n",
       "      <td>0.0000</td>\n",
       "    </tr>\n",
       "    <tr>\n",
       "      <th>20</th>\n",
       "      <td>Stai giocando con la sua</td>\n",
       "      <td>0.2000</td>\n",
       "    </tr>\n",
       "    <tr>\n",
       "      <th>138</th>\n",
       "      <td>Non mi sembra vero!!!! Grande grande grande salvini</td>\n",
       "      <td>0.1250</td>\n",
       "    </tr>\n",
       "    <tr>\n",
       "      <th>188</th>\n",
       "      <td>Prima di prendere decisioni affrettate bisognerebbe lavorare alla risoluzione del problema invece di crearne altri che non portano da nessuna parte...Orbán é uno di questi problemi e non 629 anime disperate. #Aquarius</td>\n",
       "      <td>-0.0625</td>\n",
       "    </tr>\n",
       "    <tr>\n",
       "      <th>58</th>\n",
       "      <td>Così fai morire dei poveracci..... ma hai salvato il tuo ego strafottente.</td>\n",
       "      <td>0.0000</td>\n",
       "    </tr>\n",
       "  </tbody>\n",
       "</table>\n",
       "</div>"
      ],
      "text/plain": [
       "                                                                                                                                                                                                                         reply  \\\n",
       "39                                                                                                                                                                                 Ma perchè non se li portano in germania????   \n",
       "20                                                                                                                                                                                                   Stai giocando con la sua    \n",
       "138                                                                                                                                                                        Non mi sembra vero!!!! Grande grande grande salvini   \n",
       "188  Prima di prendere decisioni affrettate bisognerebbe lavorare alla risoluzione del problema invece di crearne altri che non portano da nessuna parte...Orbán é uno di questi problemi e non 629 anime disperate. #Aquarius   \n",
       "58                                                                                                                                                  Così fai morire dei poveracci..... ma hai salvato il tuo ego strafottente.   \n",
       "\n",
       "     polarityScore  \n",
       "39          0.0000  \n",
       "20          0.2000  \n",
       "138         0.1250  \n",
       "188        -0.0625  \n",
       "58          0.0000  "
      ]
     },
     "execution_count": 18,
     "metadata": {},
     "output_type": "execute_result"
    }
   ],
   "source": [
    "replies.sample(5)"
   ]
  }
 ],
 "metadata": {
  "kernelspec": {
   "display_name": "Python 3",
   "language": "python",
   "name": "python3"
  },
  "language_info": {
   "codemirror_mode": {
    "name": "ipython",
    "version": 3
   },
   "file_extension": ".py",
   "mimetype": "text/x-python",
   "name": "python",
   "nbconvert_exporter": "python",
   "pygments_lexer": "ipython3",
   "version": "3.7.3"
  }
 },
 "nbformat": 4,
 "nbformat_minor": 2
}
