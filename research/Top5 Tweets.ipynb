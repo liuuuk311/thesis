{
 "cells": [
  {
   "cell_type": "markdown",
   "metadata": {},
   "source": [
    "# Get the top 5 tweets from a dataset\n",
    "\n",
    "The top 5 tweets is based on the interactions"
   ]
  },
  {
   "cell_type": "code",
   "execution_count": 21,
   "metadata": {},
   "outputs": [],
   "source": [
    "import pandas as pd"
   ]
  },
  {
   "cell_type": "code",
   "execution_count": 37,
   "metadata": {},
   "outputs": [],
   "source": [
    "pd.options.display.max_colwidth = 1000"
   ]
  },
  {
   "cell_type": "code",
   "execution_count": 23,
   "metadata": {},
   "outputs": [],
   "source": [
    "dataset = pd.read_csv('../data/salviniAcquarius.csv', sep=';')"
   ]
  },
  {
   "cell_type": "code",
   "execution_count": 24,
   "metadata": {},
   "outputs": [
    {
     "data": {
      "text/html": [
       "<div>\n",
       "<style scoped>\n",
       "    .dataframe tbody tr th:only-of-type {\n",
       "        vertical-align: middle;\n",
       "    }\n",
       "\n",
       "    .dataframe tbody tr th {\n",
       "        vertical-align: top;\n",
       "    }\n",
       "\n",
       "    .dataframe thead th {\n",
       "        text-align: right;\n",
       "    }\n",
       "</style>\n",
       "<table border=\"1\" class=\"dataframe\">\n",
       "  <thead>\n",
       "    <tr style=\"text-align: right;\">\n",
       "      <th></th>\n",
       "      <th>username</th>\n",
       "      <th>date</th>\n",
       "      <th>retweets</th>\n",
       "      <th>favorites</th>\n",
       "      <th>text</th>\n",
       "      <th>geo</th>\n",
       "      <th>mentions</th>\n",
       "      <th>hashtags</th>\n",
       "      <th>id</th>\n",
       "      <th>permalink</th>\n",
       "    </tr>\n",
       "  </thead>\n",
       "  <tbody>\n",
       "    <tr>\n",
       "      <th>95</th>\n",
       "      <td>matteosalvinimi</td>\n",
       "      <td>2018-06-21 13:30</td>\n",
       "      <td>230</td>\n",
       "      <td>889</td>\n",
       "      <td>Live replay di # portaaporta! (20.06.2018)https://www.pscp.tv/w/bfuDwDQzMzk2OTF8MVprS3pOd0J5ak5L...</td>\n",
       "      <td>NaN</td>\n",
       "      <td>NaN</td>\n",
       "      <td>#</td>\n",
       "      <td>1009760374550249472</td>\n",
       "      <td>https://twitter.com/matteosalvinimi/status/1009760374550249472</td>\n",
       "    </tr>\n",
       "    <tr>\n",
       "      <th>313</th>\n",
       "      <td>matteosalvinimi</td>\n",
       "      <td>2018-06-05 12:23</td>\n",
       "      <td>474</td>\n",
       "      <td>2263</td>\n",
       "      <td>Qui Senato, bella squadra, operativi! Finalmente un governo che ha in testa alla sua agenda i te...</td>\n",
       "      <td>NaN</td>\n",
       "      <td>NaN</td>\n",
       "      <td>#</td>\n",
       "      <td>1003945386090823680</td>\n",
       "      <td>https://twitter.com/matteosalvinimi/status/1003945386090823680</td>\n",
       "    </tr>\n",
       "    <tr>\n",
       "      <th>13</th>\n",
       "      <td>matteosalvinimi</td>\n",
       "      <td>2018-06-28 20:14</td>\n",
       "      <td>884</td>\n",
       "      <td>3915</td>\n",
       "      <td>Onore a Rita Pavone, che non si inchina al pensiero unico!https://www.tgcom24.mediaset.it/spetta...</td>\n",
       "      <td>NaN</td>\n",
       "      <td>NaN</td>\n",
       "      <td>NaN</td>\n",
       "      <td>1012398937049878528</td>\n",
       "      <td>https://twitter.com/matteosalvinimi/status/1012398937049878528</td>\n",
       "    </tr>\n",
       "    <tr>\n",
       "      <th>272</th>\n",
       "      <td>matteosalvinimi</td>\n",
       "      <td>2018-06-09 20:00</td>\n",
       "      <td>685</td>\n",
       "      <td>3564</td>\n",
       "      <td>Sapete amici? Ringrazio anche quelli che ci insultano perché mi danno ancora più forza e voglia ...</td>\n",
       "      <td>NaN</td>\n",
       "      <td>NaN</td>\n",
       "      <td>#</td>\n",
       "      <td>1005510012624687115</td>\n",
       "      <td>https://twitter.com/matteosalvinimi/status/1005510012624687115</td>\n",
       "    </tr>\n",
       "    <tr>\n",
       "      <th>1</th>\n",
       "      <td>matteosalvinimi</td>\n",
       "      <td>2018-06-29 22:05</td>\n",
       "      <td>400</td>\n",
       "      <td>1628</td>\n",
       "      <td>Applausi!http://www.tgcom24.mediaset.it/cronaca/veneto/imprenditore-stanzia-fondo-maternita-aume...</td>\n",
       "      <td>NaN</td>\n",
       "      <td>NaN</td>\n",
       "      <td>NaN</td>\n",
       "      <td>1012789286675144706</td>\n",
       "      <td>https://twitter.com/matteosalvinimi/status/1012789286675144706</td>\n",
       "    </tr>\n",
       "  </tbody>\n",
       "</table>\n",
       "</div>"
      ],
      "text/plain": [
       "            username              date  retweets  favorites  \\\n",
       "95   matteosalvinimi  2018-06-21 13:30       230        889   \n",
       "313  matteosalvinimi  2018-06-05 12:23       474       2263   \n",
       "13   matteosalvinimi  2018-06-28 20:14       884       3915   \n",
       "272  matteosalvinimi  2018-06-09 20:00       685       3564   \n",
       "1    matteosalvinimi  2018-06-29 22:05       400       1628   \n",
       "\n",
       "                                                                                                    text  \\\n",
       "95   Live replay di # portaaporta! (20.06.2018)https://www.pscp.tv/w/bfuDwDQzMzk2OTF8MVprS3pOd0J5ak5L...   \n",
       "313  Qui Senato, bella squadra, operativi! Finalmente un governo che ha in testa alla sua agenda i te...   \n",
       "13   Onore a Rita Pavone, che non si inchina al pensiero unico!https://www.tgcom24.mediaset.it/spetta...   \n",
       "272  Sapete amici? Ringrazio anche quelli che ci insultano perché mi danno ancora più forza e voglia ...   \n",
       "1    Applausi!http://www.tgcom24.mediaset.it/cronaca/veneto/imprenditore-stanzia-fondo-maternita-aume...   \n",
       "\n",
       "     geo mentions hashtags                   id  \\\n",
       "95   NaN      NaN        #  1009760374550249472   \n",
       "313  NaN      NaN        #  1003945386090823680   \n",
       "13   NaN      NaN      NaN  1012398937049878528   \n",
       "272  NaN      NaN        #  1005510012624687115   \n",
       "1    NaN      NaN      NaN  1012789286675144706   \n",
       "\n",
       "                                                          permalink  \n",
       "95   https://twitter.com/matteosalvinimi/status/1009760374550249472  \n",
       "313  https://twitter.com/matteosalvinimi/status/1003945386090823680  \n",
       "13   https://twitter.com/matteosalvinimi/status/1012398937049878528  \n",
       "272  https://twitter.com/matteosalvinimi/status/1005510012624687115  \n",
       "1    https://twitter.com/matteosalvinimi/status/1012789286675144706  "
      ]
     },
     "execution_count": 24,
     "metadata": {},
     "output_type": "execute_result"
    }
   ],
   "source": [
    "dataset.sample(5)"
   ]
  },
  {
   "cell_type": "code",
   "execution_count": 25,
   "metadata": {},
   "outputs": [],
   "source": [
    "dataset['interactions'] = dataset['retweets'] + dataset['favorites']"
   ]
  },
  {
   "cell_type": "code",
   "execution_count": 26,
   "metadata": {},
   "outputs": [],
   "source": [
    "top5 = dataset.sort_values(by=['interactions'], ascending=False).head(5)"
   ]
  },
  {
   "cell_type": "code",
   "execution_count": 38,
   "metadata": {},
   "outputs": [
    {
     "data": {
      "text/html": [
       "<div>\n",
       "<style scoped>\n",
       "    .dataframe tbody tr th:only-of-type {\n",
       "        vertical-align: middle;\n",
       "    }\n",
       "\n",
       "    .dataframe tbody tr th {\n",
       "        vertical-align: top;\n",
       "    }\n",
       "\n",
       "    .dataframe thead th {\n",
       "        text-align: right;\n",
       "    }\n",
       "</style>\n",
       "<table border=\"1\" class=\"dataframe\">\n",
       "  <thead>\n",
       "    <tr style=\"text-align: right;\">\n",
       "      <th></th>\n",
       "      <th>id</th>\n",
       "      <th>text</th>\n",
       "      <th>retweets</th>\n",
       "    </tr>\n",
       "  </thead>\n",
       "  <tbody>\n",
       "    <tr>\n",
       "      <th>262</th>\n",
       "      <td>1006077728091762689</td>\n",
       "      <td>Oggi anche la nave Sea Watch 3, di Ong tedesca e battente bandiera olandese, è al largo delle coste libiche in attesa di effettuare l’ennesimo carico di immigrati, da portare in Italia. L’Italia ha smesso di chinare il capo e di ubbidire, stavolta C’È CHI DICE NO. # chiudiamoiportipic.twitter.com/kjusddFDqH</td>\n",
       "      <td>3323</td>\n",
       "    </tr>\n",
       "    <tr>\n",
       "      <th>185</th>\n",
       "      <td>1007879357531115521</td>\n",
       "      <td>Mentre Aquarius naviga verso la Spagna, altre 2 navi di Ong con bandiera dell’Olanda sono arrivate al largo delle coste della Libia. Sappiano che l’Italia non vuole più essere complice del business dell’immigrazione clandestina, e dovranno cercarsi altri porti dove dirigersi.</td>\n",
       "      <td>3275</td>\n",
       "    </tr>\n",
       "    <tr>\n",
       "      <th>91</th>\n",
       "      <td>1009838907473760256</td>\n",
       "      <td>Gli insulti dei chiacchieroni Macron e Saviano non mi toccano, mi fanno forza. Mentre loro parlano, io oggi sto lavorando per bloccare il traffico di clandestini nel Mediterraneo e per restituire agli italiani le ville sequestrate ai mafiosi. C’è chi parla, c’è chi fa. Bacioni</td>\n",
       "      <td>2535</td>\n",
       "    </tr>\n",
       "    <tr>\n",
       "      <th>265</th>\n",
       "      <td>1005860118959882241</td>\n",
       "      <td># chiudiamoiportipic.twitter.com/TusUnoHUiw</td>\n",
       "      <td>2621</td>\n",
       "    </tr>\n",
       "    <tr>\n",
       "      <th>258</th>\n",
       "      <td>1006181632594804736</td>\n",
       "      <td>VITTORIA! 629 immigrati a bordo della nave Aquarius in direzione # Spagna, primo obiettivo raggiunto! # chiudiamoiportipic.twitter.com/dNmLyNRaVo</td>\n",
       "      <td>2465</td>\n",
       "    </tr>\n",
       "  </tbody>\n",
       "</table>\n",
       "</div>"
      ],
      "text/plain": [
       "                      id  \\\n",
       "262  1006077728091762689   \n",
       "185  1007879357531115521   \n",
       "91   1009838907473760256   \n",
       "265  1005860118959882241   \n",
       "258  1006181632594804736   \n",
       "\n",
       "                                                                                                                                                                                                                                                                                                                     text  \\\n",
       "262  Oggi anche la nave Sea Watch 3, di Ong tedesca e battente bandiera olandese, è al largo delle coste libiche in attesa di effettuare l’ennesimo carico di immigrati, da portare in Italia. L’Italia ha smesso di chinare il capo e di ubbidire, stavolta C’È CHI DICE NO. # chiudiamoiportipic.twitter.com/kjusddFDqH   \n",
       "185                                  Mentre Aquarius naviga verso la Spagna, altre 2 navi di Ong con bandiera dell’Olanda sono arrivate al largo delle coste della Libia. Sappiano che l’Italia non vuole più essere complice del business dell’immigrazione clandestina, e dovranno cercarsi altri porti dove dirigersi.   \n",
       "91                                  Gli insulti dei chiacchieroni Macron e Saviano non mi toccano, mi fanno forza. Mentre loro parlano, io oggi sto lavorando per bloccare il traffico di clandestini nel Mediterraneo e per restituire agli italiani le ville sequestrate ai mafiosi. C’è chi parla, c’è chi fa. Bacioni   \n",
       "265                                                                                                                                                                                                                                                                           # chiudiamoiportipic.twitter.com/TusUnoHUiw   \n",
       "258                                                                                                                                                                     VITTORIA! 629 immigrati a bordo della nave Aquarius in direzione # Spagna, primo obiettivo raggiunto! # chiudiamoiportipic.twitter.com/dNmLyNRaVo   \n",
       "\n",
       "     retweets  \n",
       "262      3323  \n",
       "185      3275  \n",
       "91       2535  \n",
       "265      2621  \n",
       "258      2465  "
      ]
     },
     "execution_count": 38,
     "metadata": {},
     "output_type": "execute_result"
    }
   ],
   "source": [
    "top5[['id', 'text', 'retweets']]"
   ]
  },
  {
   "cell_type": "code",
   "execution_count": null,
   "metadata": {},
   "outputs": [],
   "source": []
  }
 ],
 "metadata": {
  "kernelspec": {
   "display_name": "Python 3",
   "language": "python",
   "name": "python3"
  },
  "language_info": {
   "codemirror_mode": {
    "name": "ipython",
    "version": 3
   },
   "file_extension": ".py",
   "mimetype": "text/x-python",
   "name": "python",
   "nbconvert_exporter": "python",
   "pygments_lexer": "ipython3",
   "version": "3.7.3"
  }
 },
 "nbformat": 4,
 "nbformat_minor": 2
}
