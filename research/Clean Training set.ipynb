{
 "cells": [
  {
   "cell_type": "code",
   "execution_count": 35,
   "metadata": {},
   "outputs": [],
   "source": [
    "import pandas as pd"
   ]
  },
  {
   "cell_type": "markdown",
   "metadata": {},
   "source": [
    "## Load the dataset\n",
    "This dataset is just the concatenation of all the subset thus they might contain duplicates.4"
   ]
  },
  {
   "cell_type": "code",
   "execution_count": 36,
   "metadata": {},
   "outputs": [],
   "source": [
    "df = pd.read_csv('../data/training_data.csv', sep=';')"
   ]
  },
  {
   "cell_type": "markdown",
   "metadata": {},
   "source": [
    "Count the number of rows in the dataset"
   ]
  },
  {
   "cell_type": "code",
   "execution_count": 37,
   "metadata": {},
   "outputs": [
    {
     "data": {
      "text/plain": [
       "3178"
      ]
     },
     "execution_count": 37,
     "metadata": {},
     "output_type": "execute_result"
    }
   ],
   "source": [
    "len(df)"
   ]
  },
  {
   "cell_type": "markdown",
   "metadata": {},
   "source": [
    "Remove the duplicates"
   ]
  },
  {
   "cell_type": "code",
   "execution_count": 38,
   "metadata": {},
   "outputs": [],
   "source": [
    "df = df.drop_duplicates(subset='id')"
   ]
  },
  {
   "cell_type": "markdown",
   "metadata": {},
   "source": [
    "Count again"
   ]
  },
  {
   "cell_type": "code",
   "execution_count": 39,
   "metadata": {},
   "outputs": [
    {
     "data": {
      "text/plain": [
       "3127"
      ]
     },
     "execution_count": 39,
     "metadata": {},
     "output_type": "execute_result"
    }
   ],
   "source": [
    "len(df)"
   ]
  },
  {
   "cell_type": "markdown",
   "metadata": {},
   "source": [
    "Remove all row with no text"
   ]
  },
  {
   "cell_type": "code",
   "execution_count": 40,
   "metadata": {},
   "outputs": [
    {
     "data": {
      "text/html": [
       "<div>\n",
       "<style scoped>\n",
       "    .dataframe tbody tr th:only-of-type {\n",
       "        vertical-align: middle;\n",
       "    }\n",
       "\n",
       "    .dataframe tbody tr th {\n",
       "        vertical-align: top;\n",
       "    }\n",
       "\n",
       "    .dataframe thead th {\n",
       "        text-align: right;\n",
       "    }\n",
       "</style>\n",
       "<table border=\"1\" class=\"dataframe\">\n",
       "  <thead>\n",
       "    <tr style=\"text-align: right;\">\n",
       "      <th></th>\n",
       "      <th>id</th>\n",
       "      <th>name</th>\n",
       "      <th>user</th>\n",
       "      <th>replyTo</th>\n",
       "      <th>date</th>\n",
       "      <th>rawText</th>\n",
       "      <th>text</th>\n",
       "      <th>commentCount</th>\n",
       "      <th>retweetCount</th>\n",
       "      <th>favouriteCount</th>\n",
       "      <th>annotatorCount</th>\n",
       "      <th>annotation1</th>\n",
       "      <th>annotation2</th>\n",
       "      <th>annotation3</th>\n",
       "      <th>annotation4</th>\n",
       "      <th>annotation5</th>\n",
       "    </tr>\n",
       "  </thead>\n",
       "  <tbody>\n",
       "    <tr>\n",
       "      <th>132</th>\n",
       "      <td>1142382313302646785</td>\n",
       "      <td>EallorailPD  🔞‏</td>\n",
       "      <td>@eallorail_pd</td>\n",
       "      <td>In risposta a @matteosalvinimi</td>\n",
       "      <td>2019-06-22 12:42:22</td>\n",
       "      <td>pic.twitter.com/i6MEfcJrKk</td>\n",
       "      <td>NaN</td>\n",
       "      <td>NaN</td>\n",
       "      <td>NaN</td>\n",
       "      <td>2.0</td>\n",
       "      <td>NaN</td>\n",
       "      <td>NaN</td>\n",
       "      <td>NaN</td>\n",
       "      <td>NaN</td>\n",
       "      <td>NaN</td>\n",
       "      <td>NaN</td>\n",
       "    </tr>\n",
       "    <tr>\n",
       "      <th>169</th>\n",
       "      <td>1142409645291708416</td>\n",
       "      <td>Sonia Gonzaga‏</td>\n",
       "      <td>@SoniaGonzaga4</td>\n",
       "      <td>In risposta a @matteosalvinimi</td>\n",
       "      <td>2019-06-22 14:30:59</td>\n",
       "      <td>pic.twitter.com/J1KPIHcPdk</td>\n",
       "      <td>NaN</td>\n",
       "      <td>NaN</td>\n",
       "      <td>NaN</td>\n",
       "      <td>1.0</td>\n",
       "      <td>NaN</td>\n",
       "      <td>NaN</td>\n",
       "      <td>NaN</td>\n",
       "      <td>NaN</td>\n",
       "      <td>NaN</td>\n",
       "      <td>NaN</td>\n",
       "    </tr>\n",
       "    <tr>\n",
       "      <th>258</th>\n",
       "      <td>1142511346828873729</td>\n",
       "      <td>emiliano cardone‏</td>\n",
       "      <td>@emilianocardon3</td>\n",
       "      <td>In risposta a @matteosalvinimi</td>\n",
       "      <td>2019-06-22 21:15:06</td>\n",
       "      <td>pic.twitter.com/WnyNQx9SoC</td>\n",
       "      <td>NaN</td>\n",
       "      <td>NaN</td>\n",
       "      <td>NaN</td>\n",
       "      <td>NaN</td>\n",
       "      <td>NaN</td>\n",
       "      <td>NaN</td>\n",
       "      <td>NaN</td>\n",
       "      <td>NaN</td>\n",
       "      <td>NaN</td>\n",
       "      <td>NaN</td>\n",
       "    </tr>\n",
       "    <tr>\n",
       "      <th>268</th>\n",
       "      <td>1142463690442235904</td>\n",
       "      <td>emiliano cardone‏</td>\n",
       "      <td>@emilianocardon3</td>\n",
       "      <td>In risposta a @matteosalvinimi</td>\n",
       "      <td>2019-06-22 18:05:44</td>\n",
       "      <td>pic.twitter.com/x7iMXslU5T</td>\n",
       "      <td>NaN</td>\n",
       "      <td>NaN</td>\n",
       "      <td>NaN</td>\n",
       "      <td>NaN</td>\n",
       "      <td>NaN</td>\n",
       "      <td>NaN</td>\n",
       "      <td>NaN</td>\n",
       "      <td>NaN</td>\n",
       "      <td>NaN</td>\n",
       "      <td>NaN</td>\n",
       "    </tr>\n",
       "    <tr>\n",
       "      <th>271</th>\n",
       "      <td>1142457997685415942</td>\n",
       "      <td>RESEART‏</td>\n",
       "      <td>@ARTNETWORKITALI</td>\n",
       "      <td>In risposta a @matteosalvinimi</td>\n",
       "      <td>2019-06-22 17:43:07</td>\n",
       "      <td>pic.twitter.com/pWu9nOwZjO</td>\n",
       "      <td>NaN</td>\n",
       "      <td>NaN</td>\n",
       "      <td>NaN</td>\n",
       "      <td>NaN</td>\n",
       "      <td>NaN</td>\n",
       "      <td>NaN</td>\n",
       "      <td>NaN</td>\n",
       "      <td>NaN</td>\n",
       "      <td>NaN</td>\n",
       "      <td>NaN</td>\n",
       "    </tr>\n",
       "    <tr>\n",
       "      <th>275</th>\n",
       "      <td>1142441858112643073</td>\n",
       "      <td>mariano mores‏</td>\n",
       "      <td>@marianomores61</td>\n",
       "      <td>In risposta a @matteosalvinimi</td>\n",
       "      <td>2019-06-22 16:38:59</td>\n",
       "      <td>pic.twitter.com/zvaBGBnfk9</td>\n",
       "      <td>NaN</td>\n",
       "      <td>NaN</td>\n",
       "      <td>NaN</td>\n",
       "      <td>NaN</td>\n",
       "      <td>NaN</td>\n",
       "      <td>NaN</td>\n",
       "      <td>NaN</td>\n",
       "      <td>NaN</td>\n",
       "      <td>NaN</td>\n",
       "      <td>NaN</td>\n",
       "    </tr>\n",
       "    <tr>\n",
       "      <th>279</th>\n",
       "      <td>1142427744254550016</td>\n",
       "      <td>Pasqualino tallini‏</td>\n",
       "      <td>@Gabbiano1951</td>\n",
       "      <td>In risposta a @matteosalvinimi</td>\n",
       "      <td>2019-06-22 15:42:54</td>\n",
       "      <td>pic.twitter.com/1i5CXFOqKD</td>\n",
       "      <td>NaN</td>\n",
       "      <td>NaN</td>\n",
       "      <td>NaN</td>\n",
       "      <td>NaN</td>\n",
       "      <td>NaN</td>\n",
       "      <td>NaN</td>\n",
       "      <td>NaN</td>\n",
       "      <td>NaN</td>\n",
       "      <td>NaN</td>\n",
       "      <td>NaN</td>\n",
       "    </tr>\n",
       "    <tr>\n",
       "      <th>281</th>\n",
       "      <td>1142421799420026882</td>\n",
       "      <td>JeanTerribilentee‏</td>\n",
       "      <td>@JeanValentee</td>\n",
       "      <td>In risposta a @matteosalvinimi</td>\n",
       "      <td>2019-06-22 15:19:16</td>\n",
       "      <td>pic.twitter.com/TXgAOxoEKW</td>\n",
       "      <td>NaN</td>\n",
       "      <td>NaN</td>\n",
       "      <td>NaN</td>\n",
       "      <td>NaN</td>\n",
       "      <td>NaN</td>\n",
       "      <td>NaN</td>\n",
       "      <td>NaN</td>\n",
       "      <td>NaN</td>\n",
       "      <td>NaN</td>\n",
       "      <td>NaN</td>\n",
       "    </tr>\n",
       "  </tbody>\n",
       "</table>\n",
       "</div>"
      ],
      "text/plain": [
       "                      id                 name              user  \\\n",
       "132  1142382313302646785      EallorailPD  🔞‏     @eallorail_pd   \n",
       "169  1142409645291708416       Sonia Gonzaga‏    @SoniaGonzaga4   \n",
       "258  1142511346828873729    emiliano cardone‏  @emilianocardon3   \n",
       "268  1142463690442235904    emiliano cardone‏  @emilianocardon3   \n",
       "271  1142457997685415942             RESEART‏  @ARTNETWORKITALI   \n",
       "275  1142441858112643073       mariano mores‏   @marianomores61   \n",
       "279  1142427744254550016  Pasqualino tallini‏     @Gabbiano1951   \n",
       "281  1142421799420026882   JeanTerribilentee‏     @JeanValentee   \n",
       "\n",
       "                            replyTo                 date  \\\n",
       "132  In risposta a @matteosalvinimi  2019-06-22 12:42:22   \n",
       "169  In risposta a @matteosalvinimi  2019-06-22 14:30:59   \n",
       "258  In risposta a @matteosalvinimi  2019-06-22 21:15:06   \n",
       "268  In risposta a @matteosalvinimi  2019-06-22 18:05:44   \n",
       "271  In risposta a @matteosalvinimi  2019-06-22 17:43:07   \n",
       "275  In risposta a @matteosalvinimi  2019-06-22 16:38:59   \n",
       "279  In risposta a @matteosalvinimi  2019-06-22 15:42:54   \n",
       "281  In risposta a @matteosalvinimi  2019-06-22 15:19:16   \n",
       "\n",
       "                        rawText text  commentCount  retweetCount  \\\n",
       "132  pic.twitter.com/i6MEfcJrKk  NaN           NaN           NaN   \n",
       "169  pic.twitter.com/J1KPIHcPdk  NaN           NaN           NaN   \n",
       "258  pic.twitter.com/WnyNQx9SoC  NaN           NaN           NaN   \n",
       "268  pic.twitter.com/x7iMXslU5T  NaN           NaN           NaN   \n",
       "271  pic.twitter.com/pWu9nOwZjO  NaN           NaN           NaN   \n",
       "275  pic.twitter.com/zvaBGBnfk9  NaN           NaN           NaN   \n",
       "279  pic.twitter.com/1i5CXFOqKD  NaN           NaN           NaN   \n",
       "281  pic.twitter.com/TXgAOxoEKW  NaN           NaN           NaN   \n",
       "\n",
       "     favouriteCount  annotatorCount  annotation1  annotation2  annotation3  \\\n",
       "132             2.0             NaN          NaN          NaN          NaN   \n",
       "169             1.0             NaN          NaN          NaN          NaN   \n",
       "258             NaN             NaN          NaN          NaN          NaN   \n",
       "268             NaN             NaN          NaN          NaN          NaN   \n",
       "271             NaN             NaN          NaN          NaN          NaN   \n",
       "275             NaN             NaN          NaN          NaN          NaN   \n",
       "279             NaN             NaN          NaN          NaN          NaN   \n",
       "281             NaN             NaN          NaN          NaN          NaN   \n",
       "\n",
       "     annotation4  annotation5  \n",
       "132          NaN          NaN  \n",
       "169          NaN          NaN  \n",
       "258          NaN          NaN  \n",
       "268          NaN          NaN  \n",
       "271          NaN          NaN  \n",
       "275          NaN          NaN  \n",
       "279          NaN          NaN  \n",
       "281          NaN          NaN  "
      ]
     },
     "execution_count": 40,
     "metadata": {},
     "output_type": "execute_result"
    }
   ],
   "source": [
    "df[(df['text'] == '') | (df['text'].isna())]"
   ]
  },
  {
   "cell_type": "markdown",
   "metadata": {},
   "source": [
    "Finally write the dataset on file"
   ]
  },
  {
   "cell_type": "code",
   "execution_count": 41,
   "metadata": {},
   "outputs": [],
   "source": [
    "df.to_csv('../data/training/dataset.csv', sep=';')"
   ]
  }
 ],
 "metadata": {
  "kernelspec": {
   "display_name": "Python 3",
   "language": "python",
   "name": "python3"
  },
  "language_info": {
   "codemirror_mode": {
    "name": "ipython",
    "version": 3
   },
   "file_extension": ".py",
   "mimetype": "text/x-python",
   "name": "python",
   "nbconvert_exporter": "python",
   "pygments_lexer": "ipython3",
   "version": "3.7.3"
  }
 },
 "nbformat": 4,
 "nbformat_minor": 2
}
