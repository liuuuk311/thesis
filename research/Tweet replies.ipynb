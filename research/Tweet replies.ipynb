{
 "cells": [
  {
   "cell_type": "markdown",
   "metadata": {},
   "source": [
    "# Get the top 5 tweets from a dataset\n",
    "\n",
    "The top 5 tweets is based on the interactions"
   ]
  },
  {
   "cell_type": "markdown",
   "metadata": {},
   "source": [
    "Import what we'll need"
   ]
  },
  {
   "cell_type": "code",
   "execution_count": 1,
   "metadata": {},
   "outputs": [
    {
     "name": "stderr",
     "output_type": "stream",
     "text": [
      "/home/luca/Projects/Uni/thesis/.env/lib/python3.7/site-packages/treetaggerwrapper.py:740: FutureWarning: Possible nested set at position 8\n",
      "  re.IGNORECASE | re.VERBOSE)\n",
      "/home/luca/Projects/Uni/thesis/.env/lib/python3.7/site-packages/treetaggerwrapper.py:2044: FutureWarning: Possible nested set at position 152\n",
      "  re.VERBOSE | re.IGNORECASE)\n",
      "/home/luca/Projects/Uni/thesis/.env/lib/python3.7/site-packages/treetaggerwrapper.py:2067: FutureWarning: Possible nested set at position 409\n",
      "  UrlMatch_re = re.compile(UrlMatch_expression, re.VERBOSE | re.IGNORECASE)\n",
      "/home/luca/Projects/Uni/thesis/.env/lib/python3.7/site-packages/treetaggerwrapper.py:2079: FutureWarning: Possible nested set at position 192\n",
      "  EmailMatch_re = re.compile(EmailMatch_expression, re.VERBOSE | re.IGNORECASE)\n"
     ]
    }
   ],
   "source": [
    "import pandas as pd\n",
    "from TwitterUtils.textCleaner import clean\n",
    "from Sentiment import polarityScore"
   ]
  },
  {
   "cell_type": "markdown",
   "metadata": {},
   "source": [
    "Set the column width to 1000 to display the tweet text properly"
   ]
  },
  {
   "cell_type": "code",
   "execution_count": 2,
   "metadata": {},
   "outputs": [],
   "source": [
    "pd.options.display.max_colwidth = 1000"
   ]
  },
  {
   "cell_type": "markdown",
   "metadata": {},
   "source": [
    "Read the dataset as Pandas Dataframe. The dataset has been collected with /scrapers/getTweetReplies.py"
   ]
  },
  {
   "cell_type": "code",
   "execution_count": 3,
   "metadata": {},
   "outputs": [],
   "source": [
    "dataset = pd.read_csv('../data/replies_acquarius.csv', sep=';')"
   ]
  },
  {
   "cell_type": "markdown",
   "metadata": {},
   "source": [
    "Let's have a look at our dataset"
   ]
  },
  {
   "cell_type": "code",
   "execution_count": 4,
   "metadata": {},
   "outputs": [
    {
     "data": {
      "text/html": [
       "<div>\n",
       "<style scoped>\n",
       "    .dataframe tbody tr th:only-of-type {\n",
       "        vertical-align: middle;\n",
       "    }\n",
       "\n",
       "    .dataframe tbody tr th {\n",
       "        vertical-align: top;\n",
       "    }\n",
       "\n",
       "    .dataframe thead th {\n",
       "        text-align: right;\n",
       "    }\n",
       "</style>\n",
       "<table border=\"1\" class=\"dataframe\">\n",
       "  <thead>\n",
       "    <tr style=\"text-align: right;\">\n",
       "      <th></th>\n",
       "      <th>name</th>\n",
       "      <th>user</th>\n",
       "      <th>replyTo</th>\n",
       "      <th>date</th>\n",
       "      <th>text</th>\n",
       "      <th>commentCount</th>\n",
       "      <th>retweetCount</th>\n",
       "      <th>favouriteCount</th>\n",
       "    </tr>\n",
       "  </thead>\n",
       "  <tbody>\n",
       "    <tr>\n",
       "      <th>25</th>\n",
       "      <td>Patty_Rose‏</td>\n",
       "      <td>@Patty_Rose_L</td>\n",
       "      <td>In risposta a @paulolden1 e @matteosalvinimi</td>\n",
       "      <td>2018-06-11 09:53:21</td>\n",
       "      <td>Come fanno tutti gli altri. #Aquarius</td>\n",
       "      <td>1.0</td>\n",
       "      <td>2.0</td>\n",
       "      <td>58.0</td>\n",
       "    </tr>\n",
       "    <tr>\n",
       "      <th>273</th>\n",
       "      <td>Nicole Golden‏</td>\n",
       "      <td>@twit_golden</td>\n",
       "      <td>In risposta a @matteosalvinimi</td>\n",
       "      <td>2018-06-11 14:31:17</td>\n",
       "      <td>Well done. It s time these socalled humanitarians are put in their place. They are helping noone by playing taxi service for illegal immigrants. Italy and the other EU countries with external borders cannot be expected to continuously take in this flood of illegal immigrants.</td>\n",
       "      <td>NaN</td>\n",
       "      <td>NaN</td>\n",
       "      <td>2.0</td>\n",
       "    </tr>\n",
       "  </tbody>\n",
       "</table>\n",
       "</div>"
      ],
      "text/plain": [
       "               name           user  \\\n",
       "25      Patty_Rose‏  @Patty_Rose_L   \n",
       "273  Nicole Golden‏   @twit_golden   \n",
       "\n",
       "                                          replyTo                 date  \\\n",
       "25   In risposta a @paulolden1 e @matteosalvinimi  2018-06-11 09:53:21   \n",
       "273                In risposta a @matteosalvinimi  2018-06-11 14:31:17   \n",
       "\n",
       "                                                                                                                                                                                                                                                                                     text  \\\n",
       "25                                                                                                                                                                                                                                                  Come fanno tutti gli altri. #Aquarius   \n",
       "273  Well done. It s time these socalled humanitarians are put in their place. They are helping noone by playing taxi service for illegal immigrants. Italy and the other EU countries with external borders cannot be expected to continuously take in this flood of illegal immigrants.   \n",
       "\n",
       "     commentCount  retweetCount  favouriteCount  \n",
       "25            1.0           2.0            58.0  \n",
       "273           NaN           NaN             2.0  "
      ]
     },
     "execution_count": 4,
     "metadata": {},
     "output_type": "execute_result"
    }
   ],
   "source": [
    "dataset.sample(2)"
   ]
  },
  {
   "cell_type": "markdown",
   "metadata": {},
   "source": [
    "Let's replace the missing values in the count fields with 0"
   ]
  },
  {
   "cell_type": "code",
   "execution_count": 5,
   "metadata": {},
   "outputs": [],
   "source": [
    "dataset[['commentCount', 'retweetCount', 'favouriteCount']] = dataset[['commentCount', 'retweetCount', 'favouriteCount']].fillna(0)"
   ]
  },
  {
   "cell_type": "code",
   "execution_count": 6,
   "metadata": {},
   "outputs": [
    {
     "data": {
      "text/html": [
       "<div>\n",
       "<style scoped>\n",
       "    .dataframe tbody tr th:only-of-type {\n",
       "        vertical-align: middle;\n",
       "    }\n",
       "\n",
       "    .dataframe tbody tr th {\n",
       "        vertical-align: top;\n",
       "    }\n",
       "\n",
       "    .dataframe thead th {\n",
       "        text-align: right;\n",
       "    }\n",
       "</style>\n",
       "<table border=\"1\" class=\"dataframe\">\n",
       "  <thead>\n",
       "    <tr style=\"text-align: right;\">\n",
       "      <th></th>\n",
       "      <th>name</th>\n",
       "      <th>user</th>\n",
       "      <th>replyTo</th>\n",
       "      <th>date</th>\n",
       "      <th>text</th>\n",
       "      <th>commentCount</th>\n",
       "      <th>retweetCount</th>\n",
       "      <th>favouriteCount</th>\n",
       "    </tr>\n",
       "  </thead>\n",
       "  <tbody>\n",
       "    <tr>\n",
       "      <th>0</th>\n",
       "      <td>Matteo Salvini‏Account verificato</td>\n",
       "      <td>@matteosalvinimi</td>\n",
       "      <td>NaN</td>\n",
       "      <td>2018-06-11 09:36:37</td>\n",
       "      <td>NaN</td>\n",
       "      <td>0.0</td>\n",
       "      <td>0.0</td>\n",
       "      <td>0.0</td>\n",
       "    </tr>\n",
       "    <tr>\n",
       "      <th>1</th>\n",
       "      <td>Nica‏</td>\n",
       "      <td>@di_nica</td>\n",
       "      <td>In risposta a @matteosalvinimi</td>\n",
       "      <td>2018-06-11 09:43:41</td>\n",
       "      <td>Non parli a nome dell'Italia perché lei è la nostra vergogna\\nParli a nome do quel 4 leghisti di Gallarate per i quali è in perpetua propaganda elettorale</td>\n",
       "      <td>81.0</td>\n",
       "      <td>11.0</td>\n",
       "      <td>178.0</td>\n",
       "    </tr>\n",
       "    <tr>\n",
       "      <th>2</th>\n",
       "      <td>Ginevra‏</td>\n",
       "      <td>@NoireVn</td>\n",
       "      <td>In risposta a @di_nica e @matteosalvinimi</td>\n",
       "      <td>2018-06-11 09:54:50</td>\n",
       "      <td>Quattro siete voi! E non lo avete ancora capito!</td>\n",
       "      <td>5.0</td>\n",
       "      <td>6.0</td>\n",
       "      <td>165.0</td>\n",
       "    </tr>\n",
       "    <tr>\n",
       "      <th>3</th>\n",
       "      <td>Nica‏</td>\n",
       "      <td>@di_nica</td>\n",
       "      <td>In risposta a @NoireVn e @matteosalvinimi</td>\n",
       "      <td>2018-06-11 09:59:15</td>\n",
       "      <td>No non lo ha ancora capito salvini che non è  più il leader un partito razzista e xenofobo ma il MINISTRO DEGLI INTERNI e..purtroppo rappresenta anche me</td>\n",
       "      <td>33.0</td>\n",
       "      <td>4.0</td>\n",
       "      <td>37.0</td>\n",
       "    </tr>\n",
       "    <tr>\n",
       "      <th>4</th>\n",
       "      <td>iMarco 128gb‏</td>\n",
       "      <td>@iMarco128gb</td>\n",
       "      <td>In risposta a @di_nica, @NoireVn e @matteosalvinimi</td>\n",
       "      <td>2018-06-11 10:49:01</td>\n",
       "      <td>Salvini è stato votato assieme alla lega da MILIONI DI CITTADINI ITALIANI IL 4 marzo. Evidentemente la pesante sconfitta del PD, che sta perdendo anche le comunali di ieri, vi brucia ancora e di brutto anche. Ricordatevi che non può governare sempre la sinistra!!</td>\n",
       "      <td>11.0</td>\n",
       "      <td>15.0</td>\n",
       "      <td>139.0</td>\n",
       "    </tr>\n",
       "  </tbody>\n",
       "</table>\n",
       "</div>"
      ],
      "text/plain": [
       "                                name              user  \\\n",
       "0  Matteo Salvini‏Account verificato  @matteosalvinimi   \n",
       "1                              Nica‏          @di_nica   \n",
       "2                           Ginevra‏          @NoireVn   \n",
       "3                              Nica‏          @di_nica   \n",
       "4                      iMarco 128gb‏      @iMarco128gb   \n",
       "\n",
       "                                               replyTo                 date  \\\n",
       "0                                                  NaN  2018-06-11 09:36:37   \n",
       "1                       In risposta a @matteosalvinimi  2018-06-11 09:43:41   \n",
       "2            In risposta a @di_nica e @matteosalvinimi  2018-06-11 09:54:50   \n",
       "3            In risposta a @NoireVn e @matteosalvinimi  2018-06-11 09:59:15   \n",
       "4  In risposta a @di_nica, @NoireVn e @matteosalvinimi  2018-06-11 10:49:01   \n",
       "\n",
       "                                                                                                                                                                                                                                                                      text  \\\n",
       "0                                                                                                                                                                                                                                                                      NaN   \n",
       "1                                                                                                               Non parli a nome dell'Italia perché lei è la nostra vergogna\\nParli a nome do quel 4 leghisti di Gallarate per i quali è in perpetua propaganda elettorale   \n",
       "2                                                                                                                                                                                                                         Quattro siete voi! E non lo avete ancora capito!   \n",
       "3                                                                                                                No non lo ha ancora capito salvini che non è  più il leader un partito razzista e xenofobo ma il MINISTRO DEGLI INTERNI e..purtroppo rappresenta anche me   \n",
       "4  Salvini è stato votato assieme alla lega da MILIONI DI CITTADINI ITALIANI IL 4 marzo. Evidentemente la pesante sconfitta del PD, che sta perdendo anche le comunali di ieri, vi brucia ancora e di brutto anche. Ricordatevi che non può governare sempre la sinistra!!   \n",
       "\n",
       "   commentCount  retweetCount  favouriteCount  \n",
       "0           0.0           0.0             0.0  \n",
       "1          81.0          11.0           178.0  \n",
       "2           5.0           6.0           165.0  \n",
       "3          33.0           4.0            37.0  \n",
       "4          11.0          15.0           139.0  "
      ]
     },
     "execution_count": 6,
     "metadata": {},
     "output_type": "execute_result"
    }
   ],
   "source": [
    "dataset.head()"
   ]
  },
  {
   "cell_type": "markdown",
   "metadata": {},
   "source": [
    "Let's count how many reply don't have text"
   ]
  },
  {
   "cell_type": "code",
   "execution_count": 7,
   "metadata": {},
   "outputs": [
    {
     "data": {
      "text/plain": [
       "2"
      ]
     },
     "execution_count": 7,
     "metadata": {},
     "output_type": "execute_result"
    }
   ],
   "source": [
    "dataset['text'].isna().sum()"
   ]
  },
  {
   "cell_type": "markdown",
   "metadata": {},
   "source": [
    "So we remove those record without text"
   ]
  },
  {
   "cell_type": "code",
   "execution_count": 8,
   "metadata": {},
   "outputs": [],
   "source": [
    "dataset = dataset.dropna(axis=0, subset=['text'])"
   ]
  },
  {
   "cell_type": "markdown",
   "metadata": {},
   "source": [
    "# Run sentiment analysis on the first tweet replies"
   ]
  },
  {
   "cell_type": "markdown",
   "metadata": {},
   "source": [
    "We need to clean the text"
   ]
  },
  {
   "cell_type": "code",
   "execution_count": 9,
   "metadata": {},
   "outputs": [],
   "source": [
    "dataset['text'] = dataset['text'].apply(clean)"
   ]
  },
  {
   "cell_type": "code",
   "execution_count": 10,
   "metadata": {},
   "outputs": [],
   "source": [
    "dataset['polarityScore'] = dataset['text'].apply(polarityScore.get_polarity_score)"
   ]
  },
  {
   "cell_type": "code",
   "execution_count": 12,
   "metadata": {},
   "outputs": [
    {
     "data": {
      "text/html": [
       "<div>\n",
       "<style scoped>\n",
       "    .dataframe tbody tr th:only-of-type {\n",
       "        vertical-align: middle;\n",
       "    }\n",
       "\n",
       "    .dataframe tbody tr th {\n",
       "        vertical-align: top;\n",
       "    }\n",
       "\n",
       "    .dataframe thead th {\n",
       "        text-align: right;\n",
       "    }\n",
       "</style>\n",
       "<table border=\"1\" class=\"dataframe\">\n",
       "  <thead>\n",
       "    <tr style=\"text-align: right;\">\n",
       "      <th></th>\n",
       "      <th>name</th>\n",
       "      <th>user</th>\n",
       "      <th>replyTo</th>\n",
       "      <th>date</th>\n",
       "      <th>text</th>\n",
       "      <th>commentCount</th>\n",
       "      <th>retweetCount</th>\n",
       "      <th>favouriteCount</th>\n",
       "      <th>polarityScore</th>\n",
       "    </tr>\n",
       "  </thead>\n",
       "  <tbody>\n",
       "    <tr>\n",
       "      <th>130</th>\n",
       "      <td>Roberto‏</td>\n",
       "      <td>@robertosail</td>\n",
       "      <td>NaN</td>\n",
       "      <td>2018-06-12 16:36:58</td>\n",
       "      <td>Ti servono gli occhiali da vista, ti sembrano uguali a quelli che arrivano da noi? Tutti arrivavano con documenti e visto fatto alla partenza, e a riceverli non c'erano coop e mafia.</td>\n",
       "      <td>1.0</td>\n",
       "      <td>0.0</td>\n",
       "      <td>1.0</td>\n",
       "      <td>0.000000</td>\n",
       "    </tr>\n",
       "    <tr>\n",
       "      <th>286</th>\n",
       "      <td>Ros‏</td>\n",
       "      <td>@Roxs1973</td>\n",
       "      <td>In risposta a @matteosalvinimi</td>\n",
       "      <td>2018-06-11 12:59:37</td>\n",
       "      <td>Prima di prendere decisioni affrettate bisognerebbe lavorare alla risoluzione del problema invece di crearne altri che non portano da nessuna parte...Orbán é uno di questi problemi e non 629 anime disperate. #Aquarius</td>\n",
       "      <td>0.0</td>\n",
       "      <td>0.0</td>\n",
       "      <td>2.0</td>\n",
       "      <td>-0.062500</td>\n",
       "    </tr>\n",
       "    <tr>\n",
       "      <th>301</th>\n",
       "      <td>Elisabetta‏</td>\n",
       "      <td>@laflottina</td>\n",
       "      <td>In risposta a @bed2f572c0674fe, @matteosalvinimi e altri 2</td>\n",
       "      <td>2018-06-11 15:40:19</td>\n",
       "      <td>Certo che si</td>\n",
       "      <td>0.0</td>\n",
       "      <td>0.0</td>\n",
       "      <td>1.0</td>\n",
       "      <td>0.333333</td>\n",
       "    </tr>\n",
       "    <tr>\n",
       "      <th>216</th>\n",
       "      <td>ANTONIO‏</td>\n",
       "      <td>@ANTONIO49471273</td>\n",
       "      <td>In risposta a @matteosalvinimi</td>\n",
       "      <td>2018-06-11 13:32:38</td>\n",
       "      <td>Finalmente le cose cambiano è finita la pacchia muovano il culo la Germania e la Francia se vogliono accoglierli. Noi invece bisogna prendere esempio dall' Ungheria dall' Austria dagli Stati Uniti e dalla Russia quelli devono diventare i nostri nuovi partner.</td>\n",
       "      <td>0.0</td>\n",
       "      <td>1.0</td>\n",
       "      <td>1.0</td>\n",
       "      <td>0.024390</td>\n",
       "    </tr>\n",
       "    <tr>\n",
       "      <th>99</th>\n",
       "      <td>Grace Stamper‏</td>\n",
       "      <td>@Grace_Stamper</td>\n",
       "      <td>In risposta a @HarmonyHalliwel e @matteosalvinimi</td>\n",
       "      <td>2018-06-11 11:09:48</td>\n",
       "      <td>Io prego per loro che trovino mare buono e non si trovino in una situazione in cui un'ora in più di navigazione possa seriamente compromettere le loro vite. Stiamo parlando di bambini e donne incinte, anche.</td>\n",
       "      <td>1.0</td>\n",
       "      <td>1.0</td>\n",
       "      <td>5.0</td>\n",
       "      <td>0.055556</td>\n",
       "    </tr>\n",
       "  </tbody>\n",
       "</table>\n",
       "</div>"
      ],
      "text/plain": [
       "               name              user  \\\n",
       "130        Roberto‏      @robertosail   \n",
       "286            Ros‏         @Roxs1973   \n",
       "301     Elisabetta‏       @laflottina   \n",
       "216        ANTONIO‏  @ANTONIO49471273   \n",
       "99   Grace Stamper‏    @Grace_Stamper   \n",
       "\n",
       "                                                        replyTo  \\\n",
       "130                                                         NaN   \n",
       "286                              In risposta a @matteosalvinimi   \n",
       "301  In risposta a @bed2f572c0674fe, @matteosalvinimi e altri 2   \n",
       "216                              In risposta a @matteosalvinimi   \n",
       "99            In risposta a @HarmonyHalliwel e @matteosalvinimi   \n",
       "\n",
       "                    date  \\\n",
       "130  2018-06-12 16:36:58   \n",
       "286  2018-06-11 12:59:37   \n",
       "301  2018-06-11 15:40:19   \n",
       "216  2018-06-11 13:32:38   \n",
       "99   2018-06-11 11:09:48   \n",
       "\n",
       "                                                                                                                                                                                                                                                                    text  \\\n",
       "130                                                                               Ti servono gli occhiali da vista, ti sembrano uguali a quelli che arrivano da noi? Tutti arrivavano con documenti e visto fatto alla partenza, e a riceverli non c'erano coop e mafia.   \n",
       "286                                            Prima di prendere decisioni affrettate bisognerebbe lavorare alla risoluzione del problema invece di crearne altri che non portano da nessuna parte...Orbán é uno di questi problemi e non 629 anime disperate. #Aquarius   \n",
       "301                                                                                                                                                                                                                                                         Certo che si   \n",
       "216  Finalmente le cose cambiano è finita la pacchia muovano il culo la Germania e la Francia se vogliono accoglierli. Noi invece bisogna prendere esempio dall' Ungheria dall' Austria dagli Stati Uniti e dalla Russia quelli devono diventare i nostri nuovi partner.   \n",
       "99                                                       Io prego per loro che trovino mare buono e non si trovino in una situazione in cui un'ora in più di navigazione possa seriamente compromettere le loro vite. Stiamo parlando di bambini e donne incinte, anche.   \n",
       "\n",
       "     commentCount  retweetCount  favouriteCount  polarityScore  \n",
       "130           1.0           0.0             1.0       0.000000  \n",
       "286           0.0           0.0             2.0      -0.062500  \n",
       "301           0.0           0.0             1.0       0.333333  \n",
       "216           0.0           1.0             1.0       0.024390  \n",
       "99            1.0           1.0             5.0       0.055556  "
      ]
     },
     "execution_count": 12,
     "metadata": {},
     "output_type": "execute_result"
    }
   ],
   "source": [
    "dataset.sample(5)"
   ]
  }
 ],
 "metadata": {
  "kernelspec": {
   "display_name": "Python 3",
   "language": "python",
   "name": "python3"
  },
  "language_info": {
   "codemirror_mode": {
    "name": "ipython",
    "version": 3
   },
   "file_extension": ".py",
   "mimetype": "text/x-python",
   "name": "python",
   "nbconvert_exporter": "python",
   "pygments_lexer": "ipython3",
   "version": "3.7.3"
  }
 },
 "nbformat": 4,
 "nbformat_minor": 2
}
